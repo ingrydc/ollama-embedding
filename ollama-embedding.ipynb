{
 "cells": [
  {
   "cell_type": "code",
   "execution_count": 1,
   "id": "e9d2c9d3",
   "metadata": {},
   "outputs": [
    {
     "name": "stdout",
     "output_type": "stream",
     "text": [
      "Requirement already satisfied: requests in c:\\users\\desktop\\documents\\tasi\\.venv\\lib\\site-packages (2.32.3)\n",
      "Requirement already satisfied: charset-normalizer<4,>=2 in c:\\users\\desktop\\documents\\tasi\\.venv\\lib\\site-packages (from requests) (3.4.2)\n",
      "Requirement already satisfied: idna<4,>=2.5 in c:\\users\\desktop\\documents\\tasi\\.venv\\lib\\site-packages (from requests) (3.10)\n",
      "Requirement already satisfied: urllib3<3,>=1.21.1 in c:\\users\\desktop\\documents\\tasi\\.venv\\lib\\site-packages (from requests) (2.4.0)\n",
      "Requirement already satisfied: certifi>=2017.4.17 in c:\\users\\desktop\\documents\\tasi\\.venv\\lib\\site-packages (from requests) (2025.4.26)\n",
      "Note: you may need to restart the kernel to use updated packages.\n"
     ]
    }
   ],
   "source": [
    "%pip install requests"
   ]
  },
  {
   "cell_type": "code",
   "execution_count": 2,
   "id": "8875e1fe",
   "metadata": {},
   "outputs": [
    {
     "name": "stdout",
     "output_type": "stream",
     "text": [
      "Texto: Max Verstappen campeão mundial.\n",
      "Tamanho do vetor de embedding: 768\n",
      "Primeiros 10 valores do vetor:\n",
      "[0.3220295310020447, 0.3911064863204956, -3.786505699157715, 1.2908594608306885, 0.11867246776819229, 0.027575338259339333, -1.511978268623352, -0.2084711641073227, -0.3729017674922943, 0.118904247879982]\n"
     ]
    }
   ],
   "source": [
    "import requests\n",
    "texto = \"Max Verstappen campeão mundial.\"\n",
    "modelo = \"nomic-embed-text\"\n",
    "url = \"http://localhost:11434/api/embeddings\"\n",
    "\n",
    "payload = {\n",
    "    \"model\": modelo,\n",
    "    \"prompt\": texto\n",
    "}\n",
    "response = requests.post(url, json=payload)\n",
    "\n",
    "if response.status_code == 200:\n",
    "    data = response.json()\n",
    "    embedding = data.get(\"embedding\", [])\n",
    "\n",
    "    print(f\"Texto: {texto}\")\n",
    "    print(f\"Tamanho do vetor de embedding: {len(embedding)}\")\n",
    "    print(\"Primeiros 10 valores do vetor:\")\n",
    "    print(embedding[:10])\n",
    "else:\n",
    "    print(f\"Erro na requisição: {response.status_code}\")\n",
    "    print(response.text)"
   ]
  }
 ],
 "metadata": {
  "kernelspec": {
   "display_name": ".venv",
   "language": "python",
   "name": "python3"
  },
  "language_info": {
   "codemirror_mode": {
    "name": "ipython",
    "version": 3
   },
   "file_extension": ".py",
   "mimetype": "text/x-python",
   "name": "python",
   "nbconvert_exporter": "python",
   "pygments_lexer": "ipython3",
   "version": "3.13.0"
  }
 },
 "nbformat": 4,
 "nbformat_minor": 5
}
